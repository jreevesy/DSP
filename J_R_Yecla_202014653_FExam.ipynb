{
  "nbformat": 4,
  "nbformat_minor": 0,
  "metadata": {
    "colab": {
      "provenance": [],
      "include_colab_link": true
    },
    "kernelspec": {
      "name": "python3",
      "display_name": "Python 3"
    },
    "language_info": {
      "name": "python"
    }
  },
  "cells": [
    {
      "cell_type": "markdown",
      "metadata": {
        "id": "view-in-github",
        "colab_type": "text"
      },
      "source": [
        "<a href=\"https://colab.research.google.com/github/jreevesy/DSP/blob/main/J_R_Yecla_202014653_FExam.ipynb\" target=\"_parent\"><img src=\"https://colab.research.google.com/assets/colab-badge.svg\" alt=\"Open In Colab\"/></a>"
      ]
    },
    {
      "cell_type": "code",
      "execution_count": null,
      "metadata": {
        "colab": {
          "base_uri": "https://localhost:8080/"
        },
        "id": "mqWxnxrWN6Ro",
        "outputId": "8fd4d81e-7fb3-4b81-98d4-4ac32765fde6"
      },
      "outputs": [
        {
          "output_type": "stream",
          "name": "stdout",
          "text": [
            "Complex numbers:\n",
            "(-1+0j)\n",
            "-1j\n",
            "1j\n",
            "(1+0j)\n"
          ]
        }
      ],
      "source": [
        "#2.1\n",
        "\n",
        "def set_cmplx_numbers():\n",
        "    solve = []\n",
        "\n",
        "    for a in range(-10, 11):\n",
        "        for b in range(-10, 11):\n",
        "            if a != 0 or b != 0:\n",
        "                z = complex(a, b)\n",
        "                conjugate = z.conjugate()\n",
        "                inverse = 1 / z\n",
        "\n",
        "                if conjugate == inverse:\n",
        "                    solve.append(z)\n",
        "    return solve\n",
        "\n",
        "result = set_cmplx_numbers()\n",
        "print(\"Complex numbers:\")\n",
        "for z in result:\n",
        "    print(z)\n"
      ]
    },
    {
      "cell_type": "code",
      "source": [
        "#2.2\n",
        "\n",
        "import numpy as np\n",
        "\n",
        "n  = 3\n",
        "theta = 0.5\n",
        "\n",
        "y = (1j * np.exp(1j * np.pi/2) + 1j * np.exp(-1j * np.pi/2)\n",
        "   - 2 * np.exp(1j * theta * n) + 2 * np.exp(-1j * theta * n)) / (2 * 1j)\n",
        "\n",
        "\n",
        "print(\"Result:\", y)\n"
      ],
      "metadata": {
        "colab": {
          "base_uri": "https://localhost:8080/"
        },
        "id": "30q1fq7DOB3E",
        "outputId": "e0e6a2dc-4c34-4529-e9a1-5b78aa316c2d"
      },
      "execution_count": null,
      "outputs": [
        {
          "output_type": "stream",
          "name": "stdout",
          "text": [
            "Result: (-1.9949899732081087-0j)\n"
          ]
        }
      ]
    },
    {
      "cell_type": "code",
      "source": [
        "#2.3\n",
        "\n",
        "from fractions import Fraction\n",
        "from math import gcd\n",
        "\n",
        "def min_period(M, N):\n",
        "    return N // gcd(M, N)\n",
        "\n",
        "# Signal a\n",
        "M_a, N_a = 1, 1\n",
        "P_a = min_period(M_a, N_a)\n",
        "\n",
        "# Signal b\n",
        "M_b, N_b = 1, 3\n",
        "P_b = min_period(M_b, N_b)\n",
        "\n",
        "# Signal c\n",
        "M_c, N_c = 56, 9\n",
        "P_c = min_period(M_c, N_c)\n",
        "\n",
        "print(\"Signal a:\", P_a)\n",
        "print(\"Signal b:\", P_b)\n",
        "print(\"Signal c:\", P_c)\n"
      ],
      "metadata": {
        "colab": {
          "base_uri": "https://localhost:8080/"
        },
        "id": "p80Fqh5VOSgN",
        "outputId": "435eb064-4eac-4b09-b282-823c5f778aac"
      },
      "execution_count": null,
      "outputs": [
        {
          "output_type": "stream",
          "name": "stdout",
          "text": [
            "Minimum Period P for Signal a: 1\n",
            "Minimum Period P for Signal b: 3\n",
            "Minimum Period P for Signal c: 9\n"
          ]
        }
      ]
    },
    {
      "cell_type": "code",
      "source": [
        "#2.4\n",
        "\n",
        "import numpy as np\n",
        "\n",
        "def theta(n):\n",
        "    return np.where(n >= 0, 1, 0)\n",
        "\n",
        "def compute_x(n):\n",
        "    return theta(n) + 2 * theta(n - 1) + 3 * theta(n - 2)\n",
        "\n",
        "def movingAverage(x):\n",
        "    N = len(x)\n",
        "    y = np.zeros(N)\n",
        "\n",
        "    for n in range(N):\n",
        "        if n > 0:\n",
        "            y[n] = (x[n] + x[n - 1]) / 2\n",
        "        else:\n",
        "            y[n] = x[n]\n",
        "\n",
        "    return y\n",
        "\n",
        "n_values = np.arange(-5, 10)\n",
        "x_n = compute_x(n_values)\n",
        "\n",
        "\n",
        "y_n = movingAverage(x_n)\n",
        "\n",
        "print(\"Signal x[n]:\", x_n)\n",
        "print(\"Moving Average y[n]:\", y_n)\n"
      ],
      "metadata": {
        "colab": {
          "base_uri": "https://localhost:8080/"
        },
        "id": "2kBDkq77ZMRm",
        "outputId": "0fb70ef9-74ae-4111-d4f4-8506331d5308"
      },
      "execution_count": null,
      "outputs": [
        {
          "output_type": "stream",
          "name": "stdout",
          "text": [
            "Signal x[n]: [0 0 0 0 0 1 3 6 6 6 6 6 6 6 6]\n",
            "Moving Average y[n]: [0.  0.  0.  0.  0.  0.5 2.  4.5 6.  6.  6.  6.  6.  6.  6. ]\n"
          ]
        }
      ]
    },
    {
      "cell_type": "code",
      "source": [
        "#2.5\n",
        "import matplotlib.pyplot as plt\n",
        "\n",
        "N = 12\n",
        "\n",
        "x_1 = np.zeros(N)\n",
        "x_3 = np.zeros(N)\n",
        "x_4 = np.zeros(N)\n",
        "\n",
        "x = np.ones(N)\n",
        "\n",
        "shift = 1\n",
        "x_1[shift:] = x[:-shift]\n",
        "\n",
        "shift = 3\n",
        "x_3[shift:] = x[:-shift]\n",
        "\n",
        "shift = 4\n",
        "x_4[shift:] = x[:-shift]\n",
        "\n",
        "y = x + x_1 - x_3 - x_4\n",
        "\n",
        "n = np.arange(N)\n",
        "plt.stem(n, y, linefmt='-', markerfmt='C3o', basefmt='C0-')\n",
        "plt.title('Unit Step Response y[n]')\n",
        "plt.xlabel('')\n",
        "plt.ylabel('y[n]')\n",
        "plt.grid(True)\n",
        "plt.show()\n"
      ],
      "metadata": {
        "colab": {
          "base_uri": "https://localhost:8080/",
          "height": 452
        },
        "id": "I-r5R1NHd5zZ",
        "outputId": "feee7237-3f86-44eb-f04c-2f8c31592164"
      },
      "execution_count": null,
      "outputs": [
        {
          "output_type": "display_data",
          "data": {
            "text/plain": [
              "<Figure size 640x480 with 1 Axes>"
            ],
            "image/png": "[encoded data removed]"
          },
          "metadata": {}
        }
      ]
    },
    {
      "cell_type": "code",
      "source": [
        "#2.6\n",
        "\n",
        "import numpy as np\n",
        "\n",
        "D = np.array([[0, 0, 1], [1, 0, 0], [0, 1, 0]])\n",
        "\n",
        "result = np.array([1/np.sqrt(2), 0.5/np.sqrt(2), -1/np.sqrt(2)])\n",
        "\n",
        "F = np.linalg.solve(D, result)\n",
        "\n",
        "print(\"Matrix F is:\")\n",
        "print(F)"
      ],
      "metadata": {
        "colab": {
          "base_uri": "https://localhost:8080/"
        },
        "id": "iqBlK-LWfJJ1",
        "outputId": "e6b109b6-3535-4e0e-b108-e9d21ca29c83"
      },
      "execution_count": null,
      "outputs": [
        {
          "output_type": "stream",
          "name": "stdout",
          "text": [
            "Matrix F:\n",
            "[ 0.35355339 -0.70710678  0.70710678]\n"
          ]
        }
      ]
    },
    {
      "cell_type": "code",
      "source": [
        "import numpy as np\n",
        "\n",
        "def signal_a(n):\n",
        "    return np.exp(1j * (np.pi / 2) * n)\n",
        "def signal_b(n):\n",
        "    return np.exp(-1j * (np.pi / 2) * n)\n",
        "def signal_c(n):\n",
        "    return (2 / np.sqrt(np.pi)) * np.exp(1j * 2 * np.pi * n)\n",
        "\n",
        "def to_compare(n):\n",
        "    return -signal_a(n) / signal_b(n) + signal_c(n)\n",
        "\n",
        "result = (2 * np.sqrt(np.pi) + np.pi) / np.pi\n",
        "n = np.arange(0, 5, 0.1)\n",
        "equal = np.allclose(to_compare(n), result)\n",
        "\n",
        "print(\"Signal a: \", signal_a)\n",
        "print(\"Signal b: \", signal_b)\n",
        "print(\"Signal c: \", signal_c)\n",
        "\n",
        "if equal:\n",
        "    print(\"Signals are equal.\")\n",
        "else:\n",
        "    print(\"Signals are not equal.\")\n"
      ],
      "metadata": {
        "colab": {
          "base_uri": "https://localhost:8080/"
        },
        "id": "hDYlrNE4fY70",
        "outputId": "409b9d56-855b-4bdb-caa2-d2eb18b473ad"
      },
      "execution_count": null,
      "outputs": [
        {
          "output_type": "stream",
          "name": "stdout",
          "text": [
            "Signal a:  <function signal_a at 0x7ac4dad11510>\n",
            "Signal b:  <function signal_b at 0x7ac4dad13130>\n",
            "Signal c:  <function signal_c at 0x7ac4dad11630>\n",
            "Signals are not equal.\n"
          ]
        }
      ]
    },
    {
      "cell_type": "code",
      "source": [],
      "metadata": {
        "id": "DA69JGu5f4ej"
      },
      "execution_count": null,
      "outputs": []
    }
  ]
}